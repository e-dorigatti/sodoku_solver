{
 "cells": [
  {
   "cell_type": "code",
   "execution_count": 1,
   "metadata": {},
   "outputs": [
    {
     "name": "stdout",
     "output_type": "stream",
     "text": [
      "Importing Jupyter notebook from extract_digits.ipynb\n",
      "Importing Jupyter notebook from solve_sodoku.ipynb\n",
      "Importing Jupyter notebook from recognize_digits.ipynb\n"
     ]
    },
    {
     "name": "stderr",
     "output_type": "stream",
     "text": [
      "Using TensorFlow backend.\n"
     ]
    }
   ],
   "source": [
    "import nbimporter\n",
    "from extract_digits import extract_digits_from_image\n",
    "from solve_sodoku import SodokuField\n",
    "from recognize_digits import DigitPredictor\n",
    "import matplotlib.pyplot as plt"
   ]
  },
  {
   "cell_type": "code",
   "execution_count": 26,
   "metadata": {},
   "outputs": [],
   "source": [
    "fname = './images/IMG_20181216_120249.jpg'\n",
    "digit_images, image_data = extract_digits_from_image(fname, return_debug=True)"
   ]
  },
  {
   "cell_type": "code",
   "execution_count": 27,
   "metadata": {},
   "outputs": [],
   "source": [
    "digits = DigitPredictor().predict_digits(digit_images)"
   ]
  },
  {
   "cell_type": "code",
   "execution_count": 28,
   "metadata": {},
   "outputs": [
    {
     "name": "stdout",
     "output_type": "stream",
     "text": [
      "+---------+---------+---------+\n",
      "|    1  9 |    7  3 |       8 |\n",
      "|       7 |    1  8 |       3 |\n",
      "| 3  8  2 |    6  5 | 8  7  1 |\n",
      "+---------+---------+---------+\n",
      "| 7  4  5 | 6  3    | 8       |\n",
      "| 2  1  8 | 1  5  4 | 3  6    |\n",
      "| 1  6  3 | 7  8    |    4  5 |\n",
      "+---------+---------+---------+\n",
      "| 5  2  6 | 3  4  1 | 7  8  9 |\n",
      "| 9  7  1 | 8  2  6 | 5  3  4 |\n",
      "| 8  3  4 | 5  1  7 |       2 |\n",
      "+---------+---------+---------+\n",
      "\n"
     ]
    },
    {
     "data": {
      "text/plain": [
       "False"
      ]
     },
     "execution_count": 28,
     "metadata": {},
     "output_type": "execute_result"
    }
   ],
   "source": [
    "sodoku = SodokuField(digits)\n",
    "sodoku.pretty_print()\n",
    "sodoku.is_valid()"
   ]
  },
  {
   "cell_type": "code",
   "execution_count": null,
   "metadata": {},
   "outputs": [],
   "source": []
  }
 ],
 "metadata": {
  "kernelspec": {
   "display_name": "Python 3",
   "language": "python",
   "name": "python3"
  },
  "language_info": {
   "codemirror_mode": {
    "name": "ipython",
    "version": 3
   },
   "file_extension": ".py",
   "mimetype": "text/x-python",
   "name": "python",
   "nbconvert_exporter": "python",
   "pygments_lexer": "ipython3",
   "version": "3.6.7"
  }
 },
 "nbformat": 4,
 "nbformat_minor": 2
}
